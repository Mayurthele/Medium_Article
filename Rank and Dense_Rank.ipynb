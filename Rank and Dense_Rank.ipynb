{
 "cells": [
  {
   "cell_type": "markdown",
   "id": "698ad245",
   "metadata": {},
   "source": [
    "#  Rank and Dense Rank "
   ]
  },
  {
   "cell_type": "markdown",
   "id": "a6038158",
   "metadata": {},
   "source": [
    "### 1.1 Python Pandas"
   ]
  },
  {
   "cell_type": "code",
   "execution_count": 10,
   "id": "8b068d54",
   "metadata": {},
   "outputs": [
    {
     "data": {
      "text/html": [
       "<div>\n",
       "<style scoped>\n",
       "    .dataframe tbody tr th:only-of-type {\n",
       "        vertical-align: middle;\n",
       "    }\n",
       "\n",
       "    .dataframe tbody tr th {\n",
       "        vertical-align: top;\n",
       "    }\n",
       "\n",
       "    .dataframe thead th {\n",
       "        text-align: right;\n",
       "    }\n",
       "</style>\n",
       "<table border=\"1\" class=\"dataframe\">\n",
       "  <thead>\n",
       "    <tr style=\"text-align: right;\">\n",
       "      <th></th>\n",
       "      <th>Id</th>\n",
       "      <th>Name</th>\n",
       "      <th>Salary</th>\n",
       "    </tr>\n",
       "  </thead>\n",
       "  <tbody>\n",
       "    <tr>\n",
       "      <th>0</th>\n",
       "      <td>1</td>\n",
       "      <td>Rahul</td>\n",
       "      <td>30000</td>\n",
       "    </tr>\n",
       "    <tr>\n",
       "      <th>1</th>\n",
       "      <td>2</td>\n",
       "      <td>Ganesh</td>\n",
       "      <td>40000</td>\n",
       "    </tr>\n",
       "    <tr>\n",
       "      <th>2</th>\n",
       "      <td>3</td>\n",
       "      <td>Pratik</td>\n",
       "      <td>50000</td>\n",
       "    </tr>\n",
       "    <tr>\n",
       "      <th>3</th>\n",
       "      <td>4</td>\n",
       "      <td>Anmol</td>\n",
       "      <td>50000</td>\n",
       "    </tr>\n",
       "    <tr>\n",
       "      <th>4</th>\n",
       "      <td>5</td>\n",
       "      <td>Sagar</td>\n",
       "      <td>60000</td>\n",
       "    </tr>\n",
       "    <tr>\n",
       "      <th>5</th>\n",
       "      <td>6</td>\n",
       "      <td>Rajesh</td>\n",
       "      <td>70000</td>\n",
       "    </tr>\n",
       "  </tbody>\n",
       "</table>\n",
       "</div>"
      ],
      "text/plain": [
       "   Id    Name  Salary\n",
       "0   1   Rahul   30000\n",
       "1   2  Ganesh   40000\n",
       "2   3  Pratik   50000\n",
       "3   4   Anmol   50000\n",
       "4   5   Sagar   60000\n",
       "5   6  Rajesh   70000"
      ]
     },
     "metadata": {},
     "output_type": "display_data"
    }
   ],
   "source": [
    "import pandas as pd   ## import the pandas module\n",
    "df = pd.read_csv('Source_RankData.csv')   ## get the data from csv file into dataframe\n",
    "display(df)"
   ]
  },
  {
   "cell_type": "code",
   "execution_count": 17,
   "id": "c3bf11b3",
   "metadata": {},
   "outputs": [
    {
     "data": {
      "text/html": [
       "<div>\n",
       "<style scoped>\n",
       "    .dataframe tbody tr th:only-of-type {\n",
       "        vertical-align: middle;\n",
       "    }\n",
       "\n",
       "    .dataframe tbody tr th {\n",
       "        vertical-align: top;\n",
       "    }\n",
       "\n",
       "    .dataframe thead th {\n",
       "        text-align: right;\n",
       "    }\n",
       "</style>\n",
       "<table border=\"1\" class=\"dataframe\">\n",
       "  <thead>\n",
       "    <tr style=\"text-align: right;\">\n",
       "      <th></th>\n",
       "      <th>Id</th>\n",
       "      <th>Name</th>\n",
       "      <th>Salary</th>\n",
       "      <th>rank</th>\n",
       "      <th>dense_rank</th>\n",
       "    </tr>\n",
       "  </thead>\n",
       "  <tbody>\n",
       "    <tr>\n",
       "      <th>0</th>\n",
       "      <td>1</td>\n",
       "      <td>Rahul</td>\n",
       "      <td>30000</td>\n",
       "      <td>6.0</td>\n",
       "      <td>5.0</td>\n",
       "    </tr>\n",
       "    <tr>\n",
       "      <th>1</th>\n",
       "      <td>2</td>\n",
       "      <td>Ganesh</td>\n",
       "      <td>40000</td>\n",
       "      <td>5.0</td>\n",
       "      <td>4.0</td>\n",
       "    </tr>\n",
       "    <tr>\n",
       "      <th>2</th>\n",
       "      <td>3</td>\n",
       "      <td>Pratik</td>\n",
       "      <td>50000</td>\n",
       "      <td>3.5</td>\n",
       "      <td>3.0</td>\n",
       "    </tr>\n",
       "    <tr>\n",
       "      <th>3</th>\n",
       "      <td>4</td>\n",
       "      <td>Anmol</td>\n",
       "      <td>50000</td>\n",
       "      <td>3.5</td>\n",
       "      <td>3.0</td>\n",
       "    </tr>\n",
       "    <tr>\n",
       "      <th>4</th>\n",
       "      <td>5</td>\n",
       "      <td>Sagar</td>\n",
       "      <td>60000</td>\n",
       "      <td>2.0</td>\n",
       "      <td>2.0</td>\n",
       "    </tr>\n",
       "    <tr>\n",
       "      <th>5</th>\n",
       "      <td>6</td>\n",
       "      <td>Rajesh</td>\n",
       "      <td>70000</td>\n",
       "      <td>1.0</td>\n",
       "      <td>1.0</td>\n",
       "    </tr>\n",
       "  </tbody>\n",
       "</table>\n",
       "</div>"
      ],
      "text/plain": [
       "   Id    Name  Salary  rank  dense_rank\n",
       "0   1   Rahul   30000   6.0         5.0\n",
       "1   2  Ganesh   40000   5.0         4.0\n",
       "2   3  Pratik   50000   3.5         3.0\n",
       "3   4   Anmol   50000   3.5         3.0\n",
       "4   5   Sagar   60000   2.0         2.0\n",
       "5   6  Rajesh   70000   1.0         1.0"
      ]
     },
     "metadata": {},
     "output_type": "display_data"
    }
   ],
   "source": [
    "df['rank'] = df['Salary'].rank(ascending=False)\n",
    "df['dense_rank'] = df['Salary'].rank(method ='dense',ascending=False)\n",
    "display(df)"
   ]
  },
  {
   "cell_type": "markdown",
   "id": "c251101f",
   "metadata": {},
   "source": [
    "### 1.2 PySpark "
   ]
  },
  {
   "cell_type": "code",
   "execution_count": 19,
   "id": "80544554",
   "metadata": {},
   "outputs": [],
   "source": [
    "from pyspark.sql import SparkSession    ## import the spark session\n",
    "spark=SparkSession.builder.appName('Rank and Dens_Rank').getOrCreate()"
   ]
  },
  {
   "cell_type": "code",
   "execution_count": 20,
   "id": "9992a6eb",
   "metadata": {},
   "outputs": [],
   "source": [
    "data=spark.read.csv(\"Source_RankData.csv\",header=True,inferSchema=True)   ## get the data from csv file into dataframe"
   ]
  },
  {
   "cell_type": "code",
   "execution_count": 21,
   "id": "94878323",
   "metadata": {},
   "outputs": [
    {
     "name": "stdout",
     "output_type": "stream",
     "text": [
      "+---+------+------+\n",
      "| Id|  Name|Salary|\n",
      "+---+------+------+\n",
      "|  1| Rahul| 30000|\n",
      "|  2|Ganesh| 40000|\n",
      "|  3|Pratik| 50000|\n",
      "|  4| Anmol| 50000|\n",
      "|  5| Sagar| 60000|\n",
      "|  6|Rajesh| 70000|\n",
      "+---+------+------+\n",
      "\n"
     ]
    }
   ],
   "source": [
    "data.show()"
   ]
  },
  {
   "cell_type": "code",
   "execution_count": 22,
   "id": "34f65dab",
   "metadata": {},
   "outputs": [],
   "source": [
    "from pyspark.sql import functions as F\n",
    "from pyspark.sql.window import Window\n",
    "\n",
    "window_spec = Window.orderBy(data['Salary'].desc())  # Define a window specification based on the 'Salary' column\n",
    "\n",
    "data = data.withColumn('Rank', F.rank().over(window_spec))  # Add a 'Rank' column based on the 'Salary' column\n",
    "data = data.withColumn('Dense Rank', F.dense_rank().over(window_spec))  #Add a 'Dense Rank' column based on the 'Salary' column"
   ]
  },
  {
   "cell_type": "code",
   "execution_count": 23,
   "id": "4d72b6cb",
   "metadata": {},
   "outputs": [
    {
     "name": "stdout",
     "output_type": "stream",
     "text": [
      "+---+------+------+----+----------+\n",
      "| Id|  Name|Salary|Rank|Dense Rank|\n",
      "+---+------+------+----+----------+\n",
      "|  6|Rajesh| 70000|   1|         1|\n",
      "|  5| Sagar| 60000|   2|         2|\n",
      "|  3|Pratik| 50000|   3|         3|\n",
      "|  4| Anmol| 50000|   3|         3|\n",
      "|  2|Ganesh| 40000|   5|         4|\n",
      "|  1| Rahul| 30000|   6|         5|\n",
      "+---+------+------+----+----------+\n",
      "\n"
     ]
    }
   ],
   "source": [
    "data.show()"
   ]
  },
  {
   "cell_type": "code",
   "execution_count": null,
   "id": "8744c57a",
   "metadata": {},
   "outputs": [],
   "source": []
  }
 ],
 "metadata": {
  "kernelspec": {
   "display_name": "Python 3 (ipykernel)",
   "language": "python",
   "name": "python3"
  },
  "language_info": {
   "codemirror_mode": {
    "name": "ipython",
    "version": 3
   },
   "file_extension": ".py",
   "mimetype": "text/x-python",
   "name": "python",
   "nbconvert_exporter": "python",
   "pygments_lexer": "ipython3",
   "version": "3.9.12"
  }
 },
 "nbformat": 4,
 "nbformat_minor": 5
}
